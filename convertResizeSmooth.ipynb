{
  "nbformat": 4,
  "nbformat_minor": 0,
  "metadata": {
    "colab": {
      "provenance": [],
      "mount_file_id": "1yV2Q6hHk8SA_fcCbDZo0Xkh4sCNO5ibr",
      "authorship_tag": "ABX9TyNbz7tPfcEC4vOuHRieJxKR",
      "include_colab_link": true
    },
    "kernelspec": {
      "name": "python3",
      "display_name": "Python 3"
    },
    "language_info": {
      "name": "python"
    }
  },
  "cells": [
    {
      "cell_type": "markdown",
      "metadata": {
        "id": "view-in-github",
        "colab_type": "text"
      },
      "source": [
        "<a href=\"https://colab.research.google.com/github/vonrafael/Self_Attention_Basic/blob/main/convertResizeSmooth.ipynb\" target=\"_parent\"><img src=\"https://colab.research.google.com/assets/colab-badge.svg\" alt=\"Open In Colab\"/></a>"
      ]
    },
    {
      "cell_type": "code",
      "execution_count": 1,
      "metadata": {
        "colab": {
          "base_uri": "https://localhost:8080/"
        },
        "id": "HOqLGJDtaMGh",
        "outputId": "3e2971de-1bf0-4132-d1c1-1dd98b56764b"
      },
      "outputs": [
        {
          "output_type": "stream",
          "name": "stdout",
          "text": [
            "Looking in indexes: https://pypi.org/simple, https://us-python.pkg.dev/colab-wheels/public/simple/\n",
            "Collecting video2images\n",
            "  Downloading video2images-1.3-py3-none-any.whl (7.4 kB)\n",
            "Requirement already satisfied: moviepy in /usr/local/lib/python3.9/dist-packages (from video2images) (1.0.3)\n",
            "Requirement already satisfied: imageio in /usr/local/lib/python3.9/dist-packages (from video2images) (2.25.1)\n",
            "Requirement already satisfied: tqdm in /usr/local/lib/python3.9/dist-packages (from video2images) (4.65.0)\n",
            "Requirement already satisfied: imageio-ffmpeg>=0.4.2 in /usr/local/lib/python3.9/dist-packages (from video2images) (0.4.8)\n",
            "Requirement already satisfied: numpy in /usr/local/lib/python3.9/dist-packages (from imageio->video2images) (1.22.4)\n",
            "Requirement already satisfied: pillow>=8.3.2 in /usr/local/lib/python3.9/dist-packages (from imageio->video2images) (8.4.0)\n",
            "Requirement already satisfied: decorator<5.0,>=4.0.2 in /usr/local/lib/python3.9/dist-packages (from moviepy->video2images) (4.4.2)\n",
            "Requirement already satisfied: requests<3.0,>=2.8.1 in /usr/local/lib/python3.9/dist-packages (from moviepy->video2images) (2.27.1)\n",
            "Requirement already satisfied: proglog<=1.0.0 in /usr/local/lib/python3.9/dist-packages (from moviepy->video2images) (0.1.10)\n",
            "Requirement already satisfied: urllib3<1.27,>=1.21.1 in /usr/local/lib/python3.9/dist-packages (from requests<3.0,>=2.8.1->moviepy->video2images) (1.26.15)\n",
            "Requirement already satisfied: charset-normalizer~=2.0.0 in /usr/local/lib/python3.9/dist-packages (from requests<3.0,>=2.8.1->moviepy->video2images) (2.0.12)\n",
            "Requirement already satisfied: idna<4,>=2.5 in /usr/local/lib/python3.9/dist-packages (from requests<3.0,>=2.8.1->moviepy->video2images) (3.4)\n",
            "Requirement already satisfied: certifi>=2017.4.17 in /usr/local/lib/python3.9/dist-packages (from requests<3.0,>=2.8.1->moviepy->video2images) (2022.12.7)\n",
            "Installing collected packages: video2images\n",
            "Successfully installed video2images-1.3\n"
          ]
        }
      ],
      "source": [
        "!pip install video2images\n"
      ]
    },
    {
      "cell_type": "code",
      "source": [
        "source = '/content/drive/MyDrive/Vid/16 - The Gates of Judgment.mkv'\n",
        "des = '/content/drive/MyDrive/Vid/pyscho_frames/'"
      ],
      "metadata": {
        "id": "YRU0MrmnaVgc"
      },
      "execution_count": 2,
      "outputs": []
    },
    {
      "cell_type": "code",
      "source": [
        "from video2images import Video2Images\n",
        "\n",
        "\n",
        "# Let say f = 20 i.e capturing only first 20 frames\n",
        "Video2Images(video_filepath=source,\n",
        "             capture_rate=2,\n",
        "             out_dir=des)"
      ],
      "metadata": {
        "colab": {
          "base_uri": "https://localhost:8080/",
          "height": 467
        },
        "id": "idGBvbsnevCN",
        "outputId": "46c1ffbb-e7de-4da1-d16b-8de9ce8aacc7"
      },
      "execution_count": 5,
      "outputs": [
        {
          "output_type": "stream",
          "name": "stdout",
          "text": [
            " Video Duration is \u001b[1;33m0hr: 22min: 51sec \u001b[00m\n",
            " The input Video FPS is 23 frames/sec\n",
            " Capture rate is 2 frames/sec\n"
          ]
        },
        {
          "output_type": "stream",
          "name": "stderr",
          "text": [
            "\u001b[1;37m Capturing Frames... \u001b[00m:  58%|█████▊    | 19123/32900 [07:13<05:12, 44.14iter/s]\n"
          ]
        },
        {
          "output_type": "error",
          "ename": "KeyboardInterrupt",
          "evalue": "ignored",
          "traceback": [
            "\u001b[0;31m---------------------------------------------------------------------------\u001b[0m",
            "\u001b[0;31mKeyboardInterrupt\u001b[0m                         Traceback (most recent call last)",
            "\u001b[0;32m<ipython-input-5-683e4eeff496>\u001b[0m in \u001b[0;36m<module>\u001b[0;34m\u001b[0m\n\u001b[1;32m      3\u001b[0m \u001b[0;34m\u001b[0m\u001b[0m\n\u001b[1;32m      4\u001b[0m \u001b[0;31m# Let say f = 20 i.e capturing only first 20 frames\u001b[0m\u001b[0;34m\u001b[0m\u001b[0;34m\u001b[0m\u001b[0m\n\u001b[0;32m----> 5\u001b[0;31m Video2Images(video_filepath=source,\n\u001b[0m\u001b[1;32m      6\u001b[0m              \u001b[0mcapture_rate\u001b[0m\u001b[0;34m=\u001b[0m\u001b[0;36m2\u001b[0m\u001b[0;34m,\u001b[0m\u001b[0;34m\u001b[0m\u001b[0;34m\u001b[0m\u001b[0m\n\u001b[1;32m      7\u001b[0m              out_dir=des)\n",
            "\u001b[0;32m/usr/local/lib/python3.9/dist-packages/video2images/video2images.py\u001b[0m in \u001b[0;36m__init__\u001b[0;34m(self, video_filepath, start_time, end_time, capture_rate, save_format, out_dir)\u001b[0m\n\u001b[1;32m    157\u001b[0m \u001b[0;34m\u001b[0m\u001b[0m\n\u001b[1;32m    158\u001b[0m         \u001b[0;31m# Initiate the video2image conversion\u001b[0m\u001b[0;34m\u001b[0m\u001b[0;34m\u001b[0m\u001b[0m\n\u001b[0;32m--> 159\u001b[0;31m         \u001b[0mself\u001b[0m\u001b[0;34m.\u001b[0m\u001b[0m__start\u001b[0m\u001b[0;34m(\u001b[0m\u001b[0;34m)\u001b[0m\u001b[0;34m\u001b[0m\u001b[0;34m\u001b[0m\u001b[0m\n\u001b[0m\u001b[1;32m    160\u001b[0m \u001b[0;34m\u001b[0m\u001b[0m\n\u001b[1;32m    161\u001b[0m     \u001b[0;31m# Get total duration of input video\u001b[0m\u001b[0;34m\u001b[0m\u001b[0;34m\u001b[0m\u001b[0m\n",
            "\u001b[0;32m/usr/local/lib/python3.9/dist-packages/video2images/video2images.py\u001b[0m in \u001b[0;36m__start\u001b[0;34m(self)\u001b[0m\n\u001b[1;32m    229\u001b[0m \u001b[0;34m\u001b[0m\u001b[0m\n\u001b[1;32m    230\u001b[0m         \u001b[0;31m# Iterate over entire frames in video\u001b[0m\u001b[0;34m\u001b[0m\u001b[0;34m\u001b[0m\u001b[0m\n\u001b[0;32m--> 231\u001b[0;31m         for _, img in tqdm(enumerate(video_reader),\n\u001b[0m\u001b[1;32m    232\u001b[0m                            \u001b[0mdesc\u001b[0m\u001b[0;34m=\u001b[0m\u001b[0;34m\"\\033[1;37m Capturing Frames... \\033[00m\"\u001b[0m\u001b[0;34m,\u001b[0m\u001b[0;34m\u001b[0m\u001b[0;34m\u001b[0m\u001b[0m\n\u001b[1;32m    233\u001b[0m                            \u001b[0munit\u001b[0m\u001b[0;34m=\u001b[0m\u001b[0;34m\"iter\"\u001b[0m\u001b[0;34m,\u001b[0m\u001b[0;34m\u001b[0m\u001b[0;34m\u001b[0m\u001b[0m\n",
            "\u001b[0;32m/usr/local/lib/python3.9/dist-packages/tqdm/std.py\u001b[0m in \u001b[0;36m__iter__\u001b[0;34m(self)\u001b[0m\n\u001b[1;32m   1176\u001b[0m \u001b[0;34m\u001b[0m\u001b[0m\n\u001b[1;32m   1177\u001b[0m         \u001b[0;32mtry\u001b[0m\u001b[0;34m:\u001b[0m\u001b[0;34m\u001b[0m\u001b[0;34m\u001b[0m\u001b[0m\n\u001b[0;32m-> 1178\u001b[0;31m             \u001b[0;32mfor\u001b[0m \u001b[0mobj\u001b[0m \u001b[0;32min\u001b[0m \u001b[0miterable\u001b[0m\u001b[0;34m:\u001b[0m\u001b[0;34m\u001b[0m\u001b[0;34m\u001b[0m\u001b[0m\n\u001b[0m\u001b[1;32m   1179\u001b[0m                 \u001b[0;32myield\u001b[0m \u001b[0mobj\u001b[0m\u001b[0;34m\u001b[0m\u001b[0;34m\u001b[0m\u001b[0m\n\u001b[1;32m   1180\u001b[0m                 \u001b[0;31m# Update and possibly print the progressbar.\u001b[0m\u001b[0;34m\u001b[0m\u001b[0;34m\u001b[0m\u001b[0m\n",
            "\u001b[0;32m/usr/local/lib/python3.9/dist-packages/imageio/core/format.py\u001b[0m in \u001b[0;36miter_data\u001b[0;34m(self)\u001b[0m\n\u001b[1;32m    492\u001b[0m             \u001b[0;32mwhile\u001b[0m \u001b[0mi\u001b[0m \u001b[0;34m<\u001b[0m \u001b[0mn\u001b[0m\u001b[0;34m:\u001b[0m\u001b[0;34m\u001b[0m\u001b[0;34m\u001b[0m\u001b[0m\n\u001b[1;32m    493\u001b[0m                 \u001b[0;32mtry\u001b[0m\u001b[0;34m:\u001b[0m\u001b[0;34m\u001b[0m\u001b[0;34m\u001b[0m\u001b[0m\n\u001b[0;32m--> 494\u001b[0;31m                     \u001b[0mim\u001b[0m\u001b[0;34m,\u001b[0m \u001b[0mmeta\u001b[0m \u001b[0;34m=\u001b[0m \u001b[0mself\u001b[0m\u001b[0;34m.\u001b[0m\u001b[0m_get_data\u001b[0m\u001b[0;34m(\u001b[0m\u001b[0mi\u001b[0m\u001b[0;34m)\u001b[0m\u001b[0;34m\u001b[0m\u001b[0;34m\u001b[0m\u001b[0m\n\u001b[0m\u001b[1;32m    495\u001b[0m                 \u001b[0;32mexcept\u001b[0m \u001b[0mStopIteration\u001b[0m\u001b[0;34m:\u001b[0m\u001b[0;34m\u001b[0m\u001b[0;34m\u001b[0m\u001b[0m\n\u001b[1;32m    496\u001b[0m                     \u001b[0;32mreturn\u001b[0m\u001b[0;34m\u001b[0m\u001b[0;34m\u001b[0m\u001b[0m\n",
            "\u001b[0;32m/usr/local/lib/python3.9/dist-packages/imageio/plugins/ffmpeg.py\u001b[0m in \u001b[0;36m_get_data\u001b[0;34m(self, index)\u001b[0m\n\u001b[1;32m    409\u001b[0m                 \u001b[0;32melse\u001b[0m\u001b[0;34m:\u001b[0m\u001b[0;34m\u001b[0m\u001b[0;34m\u001b[0m\u001b[0m\n\u001b[1;32m    410\u001b[0m                     \u001b[0mself\u001b[0m\u001b[0;34m.\u001b[0m\u001b[0m_skip_frames\u001b[0m\u001b[0;34m(\u001b[0m\u001b[0mindex\u001b[0m \u001b[0;34m-\u001b[0m \u001b[0mself\u001b[0m\u001b[0;34m.\u001b[0m\u001b[0m_pos\u001b[0m \u001b[0;34m-\u001b[0m \u001b[0;36m1\u001b[0m\u001b[0;34m)\u001b[0m\u001b[0;34m\u001b[0m\u001b[0;34m\u001b[0m\u001b[0m\n\u001b[0;32m--> 411\u001b[0;31m                 \u001b[0mresult\u001b[0m\u001b[0;34m,\u001b[0m \u001b[0mis_new\u001b[0m \u001b[0;34m=\u001b[0m \u001b[0mself\u001b[0m\u001b[0;34m.\u001b[0m\u001b[0m_read_frame\u001b[0m\u001b[0;34m(\u001b[0m\u001b[0;34m)\u001b[0m\u001b[0;34m\u001b[0m\u001b[0;34m\u001b[0m\u001b[0m\n\u001b[0m\u001b[1;32m    412\u001b[0m                 \u001b[0mself\u001b[0m\u001b[0;34m.\u001b[0m\u001b[0m_pos\u001b[0m \u001b[0;34m=\u001b[0m \u001b[0mindex\u001b[0m\u001b[0;34m\u001b[0m\u001b[0;34m\u001b[0m\u001b[0m\n\u001b[1;32m    413\u001b[0m                 \u001b[0;32mreturn\u001b[0m \u001b[0mresult\u001b[0m\u001b[0;34m,\u001b[0m \u001b[0mdict\u001b[0m\u001b[0;34m(\u001b[0m\u001b[0mnew\u001b[0m\u001b[0;34m=\u001b[0m\u001b[0mis_new\u001b[0m\u001b[0;34m)\u001b[0m\u001b[0;34m\u001b[0m\u001b[0;34m\u001b[0m\u001b[0m\n",
            "\u001b[0;32m/usr/local/lib/python3.9/dist-packages/imageio/plugins/ffmpeg.py\u001b[0m in \u001b[0;36m_read_frame\u001b[0;34m(self)\u001b[0m\n\u001b[1;32m    512\u001b[0m                 \u001b[0ms\u001b[0m\u001b[0;34m,\u001b[0m \u001b[0mis_new\u001b[0m \u001b[0;34m=\u001b[0m \u001b[0mself\u001b[0m\u001b[0;34m.\u001b[0m\u001b[0m_frame_catcher\u001b[0m\u001b[0;34m.\u001b[0m\u001b[0mget_frame\u001b[0m\u001b[0;34m(\u001b[0m\u001b[0;34m)\u001b[0m\u001b[0;34m\u001b[0m\u001b[0;34m\u001b[0m\u001b[0m\n\u001b[1;32m    513\u001b[0m             \u001b[0;32melse\u001b[0m\u001b[0;34m:\u001b[0m\u001b[0;34m\u001b[0m\u001b[0;34m\u001b[0m\u001b[0m\n\u001b[0;32m--> 514\u001b[0;31m                 \u001b[0ms\u001b[0m \u001b[0;34m=\u001b[0m \u001b[0mself\u001b[0m\u001b[0;34m.\u001b[0m\u001b[0m_read_gen\u001b[0m\u001b[0;34m.\u001b[0m\u001b[0m__next__\u001b[0m\u001b[0;34m(\u001b[0m\u001b[0;34m)\u001b[0m\u001b[0;34m\u001b[0m\u001b[0;34m\u001b[0m\u001b[0m\n\u001b[0m\u001b[1;32m    515\u001b[0m                 \u001b[0mis_new\u001b[0m \u001b[0;34m=\u001b[0m \u001b[0;32mTrue\u001b[0m\u001b[0;34m\u001b[0m\u001b[0;34m\u001b[0m\u001b[0m\n\u001b[1;32m    516\u001b[0m \u001b[0;34m\u001b[0m\u001b[0m\n",
            "\u001b[0;32m/usr/local/lib/python3.9/dist-packages/imageio_ffmpeg/_io.py\u001b[0m in \u001b[0;36mread_frames\u001b[0;34m(path, pix_fmt, bpp, input_params, output_params, bits_per_pixel)\u001b[0m\n\u001b[1;32m    318\u001b[0m                 \u001b[0mbb\u001b[0m \u001b[0;34m=\u001b[0m \u001b[0mbytes\u001b[0m\u001b[0;34m(\u001b[0m\u001b[0;34m)\u001b[0m\u001b[0;34m\u001b[0m\u001b[0;34m\u001b[0m\u001b[0m\n\u001b[1;32m    319\u001b[0m                 \u001b[0;32mwhile\u001b[0m \u001b[0mlen\u001b[0m\u001b[0;34m(\u001b[0m\u001b[0mbb\u001b[0m\u001b[0;34m)\u001b[0m \u001b[0;34m<\u001b[0m \u001b[0mframesize_bytes\u001b[0m\u001b[0;34m:\u001b[0m\u001b[0;34m\u001b[0m\u001b[0;34m\u001b[0m\u001b[0m\n\u001b[0;32m--> 320\u001b[0;31m                     \u001b[0mextra_bytes\u001b[0m \u001b[0;34m=\u001b[0m \u001b[0mp\u001b[0m\u001b[0;34m.\u001b[0m\u001b[0mstdout\u001b[0m\u001b[0;34m.\u001b[0m\u001b[0mread\u001b[0m\u001b[0;34m(\u001b[0m\u001b[0mframesize_bytes\u001b[0m \u001b[0;34m-\u001b[0m \u001b[0mlen\u001b[0m\u001b[0;34m(\u001b[0m\u001b[0mbb\u001b[0m\u001b[0;34m)\u001b[0m\u001b[0;34m)\u001b[0m\u001b[0;34m\u001b[0m\u001b[0;34m\u001b[0m\u001b[0m\n\u001b[0m\u001b[1;32m    321\u001b[0m                     \u001b[0;32mif\u001b[0m \u001b[0;32mnot\u001b[0m \u001b[0mextra_bytes\u001b[0m\u001b[0;34m:\u001b[0m\u001b[0;34m\u001b[0m\u001b[0;34m\u001b[0m\u001b[0m\n\u001b[1;32m    322\u001b[0m                         \u001b[0;32mif\u001b[0m \u001b[0mlen\u001b[0m\u001b[0;34m(\u001b[0m\u001b[0mbb\u001b[0m\u001b[0;34m)\u001b[0m \u001b[0;34m==\u001b[0m \u001b[0;36m0\u001b[0m\u001b[0;34m:\u001b[0m\u001b[0;34m\u001b[0m\u001b[0;34m\u001b[0m\u001b[0m\n",
            "\u001b[0;31mKeyboardInterrupt\u001b[0m: "
          ]
        }
      ]
    },
    {
      "cell_type": "code",
      "source": [
        "# lets resize them for good\n"
      ],
      "metadata": {
        "id": "thLBRg59e1_H"
      },
      "execution_count": 6,
      "outputs": []
    },
    {
      "cell_type": "code",
      "source": [
        "#!/usr/bin/python\n",
        "from PIL import Image\n",
        "import os, sys\n",
        "\n",
        "path = \"/content/drive/MyDrive/Vid/pyscho_frames/psycho_pass/\"\n",
        "dirs = os.listdir( path) "
      ],
      "metadata": {
        "id": "8rcz6Ropio0m"
      },
      "execution_count": 7,
      "outputs": []
    },
    {
      "cell_type": "code",
      "source": [
        "def resize():\n",
        "    for item in dirs:\n",
        "        if os.path.isfile(path+item):\n",
        "            im = Image.open(path+item)\n",
        "            f, e = os.path.splitext(path+item)\n",
        "            imResize = im.resize((256,256), Image.LANCZOS)\n",
        "            imResize.save(f + ' resized.jpg', 'JPEG', quality=90)"
      ],
      "metadata": {
        "id": "HhuuuXHukNqJ"
      },
      "execution_count": 10,
      "outputs": []
    },
    {
      "cell_type": "code",
      "source": [
        "resize()"
      ],
      "metadata": {
        "id": "nX9LUfW8kXLJ"
      },
      "execution_count": 11,
      "outputs": []
    },
    {
      "cell_type": "code",
      "source": [
        "os.chdir(path)"
      ],
      "metadata": {
        "id": "EGkkH5ypkZO4"
      },
      "execution_count": 12,
      "outputs": []
    },
    {
      "cell_type": "code",
      "source": [
        "!ls -1|wc -l"
      ],
      "metadata": {
        "colab": {
          "base_uri": "https://localhost:8080/"
        },
        "id": "v6BaV_ublERb",
        "outputId": "d059626f-57a2-44ac-c811-b3b20a9ba6ef"
      },
      "execution_count": 13,
      "outputs": [
        {
          "output_type": "stream",
          "name": "stdout",
          "text": [
            "3200\n"
          ]
        }
      ]
    },
    {
      "cell_type": "code",
      "source": [
        "!pip install downloader"
      ],
      "metadata": {
        "colab": {
          "base_uri": "https://localhost:8080/"
        },
        "id": "N1k8FRX9mWFp",
        "outputId": "e3fa4b49-be46-4f25-e8a6-d33b539b2825"
      },
      "execution_count": 15,
      "outputs": [
        {
          "output_type": "stream",
          "name": "stdout",
          "text": [
            "Looking in indexes: https://pypi.org/simple, https://us-python.pkg.dev/colab-wheels/public/simple/\n",
            "Collecting downloader\n",
            "  Downloading downloader-0.98.tar.gz (6.9 kB)\n",
            "  Preparing metadata (setup.py) ... \u001b[?25l\u001b[?25hdone\n",
            "Building wheels for collected packages: downloader\n",
            "  Building wheel for downloader (setup.py) ... \u001b[?25l\u001b[?25hdone\n",
            "  Created wheel for downloader: filename=downloader-0.98-py3-none-any.whl size=8134 sha256=6f98654c097b69186b7f641e50687bcaf07a81efda036ffde6a1bd00034b8317\n",
            "  Stored in directory: /root/.cache/pip/wheels/29/a1/dc/510738d54d4bf7075857e5f42d055fc0f8702c75d6f5fbdaa5\n",
            "Successfully built downloader\n",
            "Installing collected packages: downloader\n",
            "Successfully installed downloader-0.98\n"
          ]
        }
      ]
    },
    {
      "cell_type": "code",
      "source": [
        "import os\n",
        "import shutil\n",
        "import urllib.request\n",
        "\n",
        "def init_counter(path_to_count_content):\n",
        "    if not os.path.exists(path_to_count_content):\n",
        "        return 0\n",
        "    else:\n",
        "        already_existing_no_of_files = len(os.listdir(path_to_count_content))\n",
        "        print(\"Already downloaded files: \", already_existing_no_of_files)\n",
        "        return already_existing_no_of_files\n",
        "\n",
        "def download_non_already_existing_images(filename_with_path, url):\n",
        "    if not os.path.exists(filename_with_path):\n",
        "        return download_image(url, filename_with_path)\n",
        "    else:\n",
        "        print(\"Skipping file, already exists: \", filename_with_path)\n",
        "        return False\n",
        "\n",
        "def download_image(url, filename):\n",
        "    try:\n",
        "        with urllib.request.urlopen(url) as response, open(filename, 'wb') as saving_file:\n",
        "            shutil.copyfileobj(response, saving_file)\n",
        "            return True\n",
        "    except urllib.error.HTTPError as e:\n",
        "        print(e)\n",
        "        return False\n",
        "\n",
        "def zip_images(zipfile_name, path_to_data_to_be_zipped):\n",
        "    shutil.make_archive(zipfile_name, 'zip', path_to_data_to_be_zipped)"
      ],
      "metadata": {
        "id": "es8uCWQInyBA"
      },
      "execution_count": 17,
      "outputs": []
    },
    {
      "cell_type": "code",
      "source": [
        "import os\n",
        "import cv2\n",
        "from PIL import Image, ImageFilter\n",
        "# import downloader\n",
        "\n",
        "PATH_TO_STORED_CARTOON_IMAGES = '/content/drive/MyDrive/Vid/pyscho_frames/psycho_pass/'\n",
        "PATH_TO_STORE_SMOOTHED_IMAGES = '/content/drive/MyDrive/Vid/pyscho_frames/psychopass_resized/'\n",
        "SMOOTHED_IMAGES_ZIPFILE_NAME = './psychopass_smoothed'"
      ],
      "metadata": {
        "id": "45wNrbLblUDc"
      },
      "execution_count": 18,
      "outputs": []
    },
    {
      "cell_type": "code",
      "source": [
        "def edge_smoothing(cartoon_images_filename, smoothed_images_filename):\n",
        "    print(\"Edge-smoothing of \", cartoon_images_filename)\n",
        "    origin = cv2.imread(cartoon_images_filename)\n",
        "    edges = createEdgesOverlay(origin)\n",
        "    result = overlayEdges(edges, origin)\n",
        "    result.save(smoothed_images_filename, \"JPEG\")"
      ],
      "metadata": {
        "id": "up33-81GmDkL"
      },
      "execution_count": 19,
      "outputs": []
    },
    {
      "cell_type": "code",
      "source": [
        "def overlayEdges(edges, origin):\n",
        "    background = transformFromCV2ToPillowImageFormat(origin)\n",
        "    background.paste(edges, (0, 0), edges)\n",
        "    background = background.convert(\"RGB\")\n",
        "    return background\n",
        "    "
      ],
      "metadata": {
        "id": "e0uDBmIhn7te"
      },
      "execution_count": 20,
      "outputs": []
    },
    {
      "cell_type": "code",
      "source": [
        "def transformFromCV2ToPillowImageFormat(img):\n",
        "    img = cv2.cvtColor(img, cv2.COLOR_BGR2RGBA)\n",
        "    return Image.fromarray(img)"
      ],
      "metadata": {
        "id": "vxhD4g3kn-hA"
      },
      "execution_count": 21,
      "outputs": []
    },
    {
      "cell_type": "code",
      "source": [
        "def createEdgesOverlay(origin):\n",
        "    edges = cv2.Canny(origin, 30, 300, 3)\n",
        "    edges = cv2.dilate(edges, (3, 3))\n",
        "    edges = cv2.bitwise_not(edges)\n",
        "    edges = transformFromCV2ToPillowImageFormat(edges)\n",
        "    makeWhiteBackgroundTransparent(edges)\n",
        "    edges = edges.filter(ImageFilter.GaussianBlur) #do blurring here because doing it before making background transparent results in white halo\n",
        "\n",
        "    return edges"
      ],
      "metadata": {
        "id": "bKNsIY5UoBeq"
      },
      "execution_count": 22,
      "outputs": []
    },
    {
      "cell_type": "code",
      "source": [
        "def makeWhiteBackgroundTransparent(img):\n",
        "    datas = img.getdata()\n",
        "    newData = []\n",
        "    for item in datas:\n",
        "        if item[0] == 255 and item[1] == 255 and item[2] == 255:\n",
        "            newData.append((255, 255, 255, 0))\n",
        "        else:\n",
        "            newData.append(item)\n",
        "    img.putdata(newData)"
      ],
      "metadata": {
        "id": "tlk-mWUOoEm7"
      },
      "execution_count": 23,
      "outputs": []
    },
    {
      "cell_type": "code",
      "source": [
        "def main():\n",
        "    if not os.path.exists(PATH_TO_STORED_CARTOON_IMAGES):\n",
        "        print(\"Can not smooth images, path does not exist: \", PATH_TO_STORED_CARTOON_IMAGES)\n",
        "\n",
        "    if not os.path.exists(PATH_TO_STORE_SMOOTHED_IMAGES):\n",
        "        os.makedirs(PATH_TO_STORE_SMOOTHED_IMAGES)\n",
        "\n",
        "    for filename in os.listdir(PATH_TO_STORED_CARTOON_IMAGES):\n",
        "        cartoon_images_filename = PATH_TO_STORED_CARTOON_IMAGES + filename\n",
        "        smoothed_images_filename = PATH_TO_STORE_SMOOTHED_IMAGES + filename\n",
        "\n",
        "        if not os.path.exists(smoothed_images_filename):\n",
        "            edge_smoothing(cartoon_images_filename, smoothed_images_filename)\n",
        "        else:\n",
        "            print(\"Skipping file, already exists, \", cartoon_images_filename)\n",
        "\n",
        "    downloader.zip_images(SMOOTHED_IMAGES_ZIPFILE_NAME, PATH_TO_STORE_SMOOTHED_IMAGES)"
      ],
      "metadata": {
        "id": "IG7A9UcboHeF"
      },
      "execution_count": 24,
      "outputs": []
    },
    {
      "cell_type": "code",
      "source": [
        "main()"
      ],
      "metadata": {
        "id": "plXhZXqBoMUZ"
      },
      "execution_count": null,
      "outputs": []
    },
    {
      "cell_type": "code",
      "source": [
        "os.chdir('/content/drive/MyDrive/Vid/pyscho_frames/psychopass_resized/')"
      ],
      "metadata": {
        "id": "8Bj_HKeqoOr1"
      },
      "execution_count": 26,
      "outputs": []
    },
    {
      "cell_type": "code",
      "source": [
        "!ls -1|wc -l"
      ],
      "metadata": {
        "colab": {
          "base_uri": "https://localhost:8080/"
        },
        "id": "xpERJD39skAj",
        "outputId": "d08e7034-1fbb-4364-8a5b-ed78abe8d109"
      },
      "execution_count": 28,
      "outputs": [
        {
          "output_type": "stream",
          "name": "stdout",
          "text": [
            "3200\n"
          ]
        }
      ]
    },
    {
      "cell_type": "code",
      "source": [],
      "metadata": {
        "id": "HAyY7KGgso6p"
      },
      "execution_count": null,
      "outputs": []
    }
  ]
}